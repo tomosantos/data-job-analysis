{
 "cells": [
  {
   "cell_type": "code",
   "execution_count": 2,
   "metadata": {},
   "outputs": [
    {
     "data": {
      "application/vnd.plotly.v1+json": {
       "config": {
        "plotlyServerURL": "https://plot.ly"
       },
       "data": [
        {
         "alignmentgroup": "True",
         "hovertemplate": "Average Yearly Salary ($)=%{marker.color}<br>Job Title=%{y}<br>text=%{text}<extra></extra>",
         "legendgroup": "",
         "marker": {
          "color": [
           650000,
           336500,
           255829.5,
           232423,
           217000,
           205000,
           189309,
           189000,
           186000,
           184000
          ],
          "coloraxis": "coloraxis",
          "pattern": {
           "shape": ""
          }
         },
         "name": "",
         "offsetgroup": "",
         "orientation": "h",
         "showlegend": false,
         "text": [
          "$650,000",
          "$336,500",
          "$255,829",
          "$232,423",
          "$217,000",
          "$205,000",
          "$189,309",
          "$189,000",
          "$186,000",
          "$184,000"
         ],
         "textfont": {
          "size": 10
         },
         "textposition": "outside",
         "type": "bar",
         "x": [
          650000,
          336500,
          255829.5,
          232423,
          217000,
          205000,
          189309,
          189000,
          186000,
          184000
         ],
         "xaxis": "x",
         "y": [
          "Data Analyst",
          "Director of Analytics",
          "Associate Director- Data Insights",
          "Data Analyst, Marketing",
          "Data Analyst (Hybrid/Remote)",
          "Principal Data Analyst (Remote)",
          "Director, Data Analyst - HYBRID",
          "Principal Data Analyst, AV Performance Analysis",
          "Principal Data Analyst",
          "ERM Data Analyst"
         ],
         "yaxis": "y"
        }
       ],
       "layout": {
        "barmode": "relative",
        "coloraxis": {
         "colorbar": {
          "title": {
           "text": "Average Yearly Salary ($)"
          }
         },
         "colorscale": [
          [
           0,
           "#440154"
          ],
          [
           0.1111111111111111,
           "#482878"
          ],
          [
           0.2222222222222222,
           "#3e4989"
          ],
          [
           0.3333333333333333,
           "#31688e"
          ],
          [
           0.4444444444444444,
           "#26828e"
          ],
          [
           0.5555555555555556,
           "#1f9e89"
          ],
          [
           0.6666666666666666,
           "#35b779"
          ],
          [
           0.7777777777777778,
           "#6ece58"
          ],
          [
           0.8888888888888888,
           "#b5de2b"
          ],
          [
           1,
           "#fde725"
          ]
         ],
         "showscale": false
        },
        "height": 500,
        "legend": {
         "tracegroupgap": 0
        },
        "margin": {
         "b": 20,
         "l": 20,
         "r": 20,
         "t": 60
        },
        "template": {
         "data": {
          "bar": [
           {
            "error_x": {
             "color": "#2a3f5f"
            },
            "error_y": {
             "color": "#2a3f5f"
            },
            "marker": {
             "line": {
              "color": "#E5ECF6",
              "width": 0.5
             },
             "pattern": {
              "fillmode": "overlay",
              "size": 10,
              "solidity": 0.2
             }
            },
            "type": "bar"
           }
          ],
          "barpolar": [
           {
            "marker": {
             "line": {
              "color": "#E5ECF6",
              "width": 0.5
             },
             "pattern": {
              "fillmode": "overlay",
              "size": 10,
              "solidity": 0.2
             }
            },
            "type": "barpolar"
           }
          ],
          "carpet": [
           {
            "aaxis": {
             "endlinecolor": "#2a3f5f",
             "gridcolor": "white",
             "linecolor": "white",
             "minorgridcolor": "white",
             "startlinecolor": "#2a3f5f"
            },
            "baxis": {
             "endlinecolor": "#2a3f5f",
             "gridcolor": "white",
             "linecolor": "white",
             "minorgridcolor": "white",
             "startlinecolor": "#2a3f5f"
            },
            "type": "carpet"
           }
          ],
          "choropleth": [
           {
            "colorbar": {
             "outlinewidth": 0,
             "ticks": ""
            },
            "type": "choropleth"
           }
          ],
          "contour": [
           {
            "colorbar": {
             "outlinewidth": 0,
             "ticks": ""
            },
            "colorscale": [
             [
              0,
              "#0d0887"
             ],
             [
              0.1111111111111111,
              "#46039f"
             ],
             [
              0.2222222222222222,
              "#7201a8"
             ],
             [
              0.3333333333333333,
              "#9c179e"
             ],
             [
              0.4444444444444444,
              "#bd3786"
             ],
             [
              0.5555555555555556,
              "#d8576b"
             ],
             [
              0.6666666666666666,
              "#ed7953"
             ],
             [
              0.7777777777777778,
              "#fb9f3a"
             ],
             [
              0.8888888888888888,
              "#fdca26"
             ],
             [
              1,
              "#f0f921"
             ]
            ],
            "type": "contour"
           }
          ],
          "contourcarpet": [
           {
            "colorbar": {
             "outlinewidth": 0,
             "ticks": ""
            },
            "type": "contourcarpet"
           }
          ],
          "heatmap": [
           {
            "colorbar": {
             "outlinewidth": 0,
             "ticks": ""
            },
            "colorscale": [
             [
              0,
              "#0d0887"
             ],
             [
              0.1111111111111111,
              "#46039f"
             ],
             [
              0.2222222222222222,
              "#7201a8"
             ],
             [
              0.3333333333333333,
              "#9c179e"
             ],
             [
              0.4444444444444444,
              "#bd3786"
             ],
             [
              0.5555555555555556,
              "#d8576b"
             ],
             [
              0.6666666666666666,
              "#ed7953"
             ],
             [
              0.7777777777777778,
              "#fb9f3a"
             ],
             [
              0.8888888888888888,
              "#fdca26"
             ],
             [
              1,
              "#f0f921"
             ]
            ],
            "type": "heatmap"
           }
          ],
          "heatmapgl": [
           {
            "colorbar": {
             "outlinewidth": 0,
             "ticks": ""
            },
            "colorscale": [
             [
              0,
              "#0d0887"
             ],
             [
              0.1111111111111111,
              "#46039f"
             ],
             [
              0.2222222222222222,
              "#7201a8"
             ],
             [
              0.3333333333333333,
              "#9c179e"
             ],
             [
              0.4444444444444444,
              "#bd3786"
             ],
             [
              0.5555555555555556,
              "#d8576b"
             ],
             [
              0.6666666666666666,
              "#ed7953"
             ],
             [
              0.7777777777777778,
              "#fb9f3a"
             ],
             [
              0.8888888888888888,
              "#fdca26"
             ],
             [
              1,
              "#f0f921"
             ]
            ],
            "type": "heatmapgl"
           }
          ],
          "histogram": [
           {
            "marker": {
             "pattern": {
              "fillmode": "overlay",
              "size": 10,
              "solidity": 0.2
             }
            },
            "type": "histogram"
           }
          ],
          "histogram2d": [
           {
            "colorbar": {
             "outlinewidth": 0,
             "ticks": ""
            },
            "colorscale": [
             [
              0,
              "#0d0887"
             ],
             [
              0.1111111111111111,
              "#46039f"
             ],
             [
              0.2222222222222222,
              "#7201a8"
             ],
             [
              0.3333333333333333,
              "#9c179e"
             ],
             [
              0.4444444444444444,
              "#bd3786"
             ],
             [
              0.5555555555555556,
              "#d8576b"
             ],
             [
              0.6666666666666666,
              "#ed7953"
             ],
             [
              0.7777777777777778,
              "#fb9f3a"
             ],
             [
              0.8888888888888888,
              "#fdca26"
             ],
             [
              1,
              "#f0f921"
             ]
            ],
            "type": "histogram2d"
           }
          ],
          "histogram2dcontour": [
           {
            "colorbar": {
             "outlinewidth": 0,
             "ticks": ""
            },
            "colorscale": [
             [
              0,
              "#0d0887"
             ],
             [
              0.1111111111111111,
              "#46039f"
             ],
             [
              0.2222222222222222,
              "#7201a8"
             ],
             [
              0.3333333333333333,
              "#9c179e"
             ],
             [
              0.4444444444444444,
              "#bd3786"
             ],
             [
              0.5555555555555556,
              "#d8576b"
             ],
             [
              0.6666666666666666,
              "#ed7953"
             ],
             [
              0.7777777777777778,
              "#fb9f3a"
             ],
             [
              0.8888888888888888,
              "#fdca26"
             ],
             [
              1,
              "#f0f921"
             ]
            ],
            "type": "histogram2dcontour"
           }
          ],
          "mesh3d": [
           {
            "colorbar": {
             "outlinewidth": 0,
             "ticks": ""
            },
            "type": "mesh3d"
           }
          ],
          "parcoords": [
           {
            "line": {
             "colorbar": {
              "outlinewidth": 0,
              "ticks": ""
             }
            },
            "type": "parcoords"
           }
          ],
          "pie": [
           {
            "automargin": true,
            "type": "pie"
           }
          ],
          "scatter": [
           {
            "fillpattern": {
             "fillmode": "overlay",
             "size": 10,
             "solidity": 0.2
            },
            "type": "scatter"
           }
          ],
          "scatter3d": [
           {
            "line": {
             "colorbar": {
              "outlinewidth": 0,
              "ticks": ""
             }
            },
            "marker": {
             "colorbar": {
              "outlinewidth": 0,
              "ticks": ""
             }
            },
            "type": "scatter3d"
           }
          ],
          "scattercarpet": [
           {
            "marker": {
             "colorbar": {
              "outlinewidth": 0,
              "ticks": ""
             }
            },
            "type": "scattercarpet"
           }
          ],
          "scattergeo": [
           {
            "marker": {
             "colorbar": {
              "outlinewidth": 0,
              "ticks": ""
             }
            },
            "type": "scattergeo"
           }
          ],
          "scattergl": [
           {
            "marker": {
             "colorbar": {
              "outlinewidth": 0,
              "ticks": ""
             }
            },
            "type": "scattergl"
           }
          ],
          "scattermapbox": [
           {
            "marker": {
             "colorbar": {
              "outlinewidth": 0,
              "ticks": ""
             }
            },
            "type": "scattermapbox"
           }
          ],
          "scatterpolar": [
           {
            "marker": {
             "colorbar": {
              "outlinewidth": 0,
              "ticks": ""
             }
            },
            "type": "scatterpolar"
           }
          ],
          "scatterpolargl": [
           {
            "marker": {
             "colorbar": {
              "outlinewidth": 0,
              "ticks": ""
             }
            },
            "type": "scatterpolargl"
           }
          ],
          "scatterternary": [
           {
            "marker": {
             "colorbar": {
              "outlinewidth": 0,
              "ticks": ""
             }
            },
            "type": "scatterternary"
           }
          ],
          "surface": [
           {
            "colorbar": {
             "outlinewidth": 0,
             "ticks": ""
            },
            "colorscale": [
             [
              0,
              "#0d0887"
             ],
             [
              0.1111111111111111,
              "#46039f"
             ],
             [
              0.2222222222222222,
              "#7201a8"
             ],
             [
              0.3333333333333333,
              "#9c179e"
             ],
             [
              0.4444444444444444,
              "#bd3786"
             ],
             [
              0.5555555555555556,
              "#d8576b"
             ],
             [
              0.6666666666666666,
              "#ed7953"
             ],
             [
              0.7777777777777778,
              "#fb9f3a"
             ],
             [
              0.8888888888888888,
              "#fdca26"
             ],
             [
              1,
              "#f0f921"
             ]
            ],
            "type": "surface"
           }
          ],
          "table": [
           {
            "cells": {
             "fill": {
              "color": "#EBF0F8"
             },
             "line": {
              "color": "white"
             }
            },
            "header": {
             "fill": {
              "color": "#C8D4E3"
             },
             "line": {
              "color": "white"
             }
            },
            "type": "table"
           }
          ]
         },
         "layout": {
          "annotationdefaults": {
           "arrowcolor": "#2a3f5f",
           "arrowhead": 0,
           "arrowwidth": 1
          },
          "autotypenumbers": "strict",
          "coloraxis": {
           "colorbar": {
            "outlinewidth": 0,
            "ticks": ""
           }
          },
          "colorscale": {
           "diverging": [
            [
             0,
             "#8e0152"
            ],
            [
             0.1,
             "#c51b7d"
            ],
            [
             0.2,
             "#de77ae"
            ],
            [
             0.3,
             "#f1b6da"
            ],
            [
             0.4,
             "#fde0ef"
            ],
            [
             0.5,
             "#f7f7f7"
            ],
            [
             0.6,
             "#e6f5d0"
            ],
            [
             0.7,
             "#b8e186"
            ],
            [
             0.8,
             "#7fbc41"
            ],
            [
             0.9,
             "#4d9221"
            ],
            [
             1,
             "#276419"
            ]
           ],
           "sequential": [
            [
             0,
             "#0d0887"
            ],
            [
             0.1111111111111111,
             "#46039f"
            ],
            [
             0.2222222222222222,
             "#7201a8"
            ],
            [
             0.3333333333333333,
             "#9c179e"
            ],
            [
             0.4444444444444444,
             "#bd3786"
            ],
            [
             0.5555555555555556,
             "#d8576b"
            ],
            [
             0.6666666666666666,
             "#ed7953"
            ],
            [
             0.7777777777777778,
             "#fb9f3a"
            ],
            [
             0.8888888888888888,
             "#fdca26"
            ],
            [
             1,
             "#f0f921"
            ]
           ],
           "sequentialminus": [
            [
             0,
             "#0d0887"
            ],
            [
             0.1111111111111111,
             "#46039f"
            ],
            [
             0.2222222222222222,
             "#7201a8"
            ],
            [
             0.3333333333333333,
             "#9c179e"
            ],
            [
             0.4444444444444444,
             "#bd3786"
            ],
            [
             0.5555555555555556,
             "#d8576b"
            ],
            [
             0.6666666666666666,
             "#ed7953"
            ],
            [
             0.7777777777777778,
             "#fb9f3a"
            ],
            [
             0.8888888888888888,
             "#fdca26"
            ],
            [
             1,
             "#f0f921"
            ]
           ]
          },
          "colorway": [
           "#636efa",
           "#EF553B",
           "#00cc96",
           "#ab63fa",
           "#FFA15A",
           "#19d3f3",
           "#FF6692",
           "#B6E880",
           "#FF97FF",
           "#FECB52"
          ],
          "font": {
           "color": "#2a3f5f"
          },
          "geo": {
           "bgcolor": "white",
           "lakecolor": "white",
           "landcolor": "#E5ECF6",
           "showlakes": true,
           "showland": true,
           "subunitcolor": "white"
          },
          "hoverlabel": {
           "align": "left"
          },
          "hovermode": "closest",
          "mapbox": {
           "style": "light"
          },
          "paper_bgcolor": "white",
          "plot_bgcolor": "#E5ECF6",
          "polar": {
           "angularaxis": {
            "gridcolor": "white",
            "linecolor": "white",
            "ticks": ""
           },
           "bgcolor": "#E5ECF6",
           "radialaxis": {
            "gridcolor": "white",
            "linecolor": "white",
            "ticks": ""
           }
          },
          "scene": {
           "xaxis": {
            "backgroundcolor": "#E5ECF6",
            "gridcolor": "white",
            "gridwidth": 2,
            "linecolor": "white",
            "showbackground": true,
            "ticks": "",
            "zerolinecolor": "white"
           },
           "yaxis": {
            "backgroundcolor": "#E5ECF6",
            "gridcolor": "white",
            "gridwidth": 2,
            "linecolor": "white",
            "showbackground": true,
            "ticks": "",
            "zerolinecolor": "white"
           },
           "zaxis": {
            "backgroundcolor": "#E5ECF6",
            "gridcolor": "white",
            "gridwidth": 2,
            "linecolor": "white",
            "showbackground": true,
            "ticks": "",
            "zerolinecolor": "white"
           }
          },
          "shapedefaults": {
           "line": {
            "color": "#2a3f5f"
           }
          },
          "ternary": {
           "aaxis": {
            "gridcolor": "white",
            "linecolor": "white",
            "ticks": ""
           },
           "baxis": {
            "gridcolor": "white",
            "linecolor": "white",
            "ticks": ""
           },
           "bgcolor": "#E5ECF6",
           "caxis": {
            "gridcolor": "white",
            "linecolor": "white",
            "ticks": ""
           }
          },
          "title": {
           "x": 0.05
          },
          "xaxis": {
           "automargin": true,
           "gridcolor": "white",
           "linecolor": "white",
           "ticks": "",
           "title": {
            "standoff": 15
           },
           "zerolinecolor": "white",
           "zerolinewidth": 2
          },
          "yaxis": {
           "automargin": true,
           "gridcolor": "white",
           "linecolor": "white",
           "ticks": "",
           "title": {
            "standoff": 15
           },
           "zerolinecolor": "white",
           "zerolinewidth": 2
          }
         }
        },
        "title": {
         "font": {
          "family": "Arial, bold",
          "size": 18
         },
         "text": "Top Paying Roles by Job Title"
        },
        "width": 900,
        "xaxis": {
         "anchor": "y",
         "domain": [
          0,
          1
         ],
         "gridcolor": "lightgray",
         "griddash": "dash",
         "gridwidth": 0.5,
         "title": {
          "font": {
           "size": 14
          },
          "text": "Average Yearly Salary ($)"
         }
        },
        "yaxis": {
         "anchor": "x",
         "autorange": "reversed",
         "domain": [
          0,
          1
         ],
         "title": {
          "font": {
           "size": 14
          },
          "text": "Job Title"
         }
        }
       }
      }
     },
     "metadata": {},
     "output_type": "display_data"
    }
   ],
   "source": [
    "import pandas as pd\n",
    "import seaborn as sns\n",
    "\n",
    "import matplotlib.pyplot as plt\n",
    "\n",
    "# Convert the JSON data to a DataFrame\n",
    "jobs_list = [\n",
    "  {\n",
    "    \"job_id\": 226942,\n",
    "    \"company_name\": \"Mantys\",\n",
    "    \"job_title\": \"Data Analyst\",\n",
    "    \"job_location\": \"Anywhere\",\n",
    "    \"job_schedule_type\": \"Full-time\",\n",
    "    \"salary_year_avg\": \"650000.0\",\n",
    "    \"job_posted_date\": \"2023-02-20 15:13:33\"\n",
    "  },\n",
    "  {\n",
    "    \"job_id\": 547382,\n",
    "    \"company_name\": \"Meta\",\n",
    "    \"job_title\": \"Director of Analytics\",\n",
    "    \"job_location\": \"Anywhere\",\n",
    "    \"job_schedule_type\": \"Full-time\",\n",
    "    \"salary_year_avg\": \"336500.0\",\n",
    "    \"job_posted_date\": \"2023-08-23 12:04:42\"\n",
    "  },\n",
    "  {\n",
    "    \"job_id\": 552322,\n",
    "    \"company_name\": \"AT&T\",\n",
    "    \"job_title\": \"Associate Director- Data Insights\",\n",
    "    \"job_location\": \"Anywhere\",\n",
    "    \"job_schedule_type\": \"Full-time\",\n",
    "    \"salary_year_avg\": \"255829.5\",\n",
    "    \"job_posted_date\": \"2023-06-18 16:03:12\"\n",
    "  },\n",
    "  {\n",
    "    \"job_id\": 99305,\n",
    "    \"company_name\": \"Pinterest Job Advertisements\",\n",
    "    \"job_title\": \"Data Analyst, Marketing\",\n",
    "    \"job_location\": \"Anywhere\",\n",
    "    \"job_schedule_type\": \"Full-time\",\n",
    "    \"salary_year_avg\": \"232423.0\",\n",
    "    \"job_posted_date\": \"2023-12-05 20:00:40\"\n",
    "  },\n",
    "  {\n",
    "    \"job_id\": 1021647,\n",
    "    \"company_name\": \"Uclahealthcareers\",\n",
    "    \"job_title\": \"Data Analyst (Hybrid/Remote)\",\n",
    "    \"job_location\": \"Anywhere\",\n",
    "    \"job_schedule_type\": \"Full-time\",\n",
    "    \"salary_year_avg\": \"217000.0\",\n",
    "    \"job_posted_date\": \"2023-01-17 00:17:23\"\n",
    "  },\n",
    "  {\n",
    "    \"job_id\": 168310,\n",
    "    \"company_name\": \"SmartAsset\",\n",
    "    \"job_title\": \"Principal Data Analyst (Remote)\",\n",
    "    \"job_location\": \"Anywhere\",\n",
    "    \"job_schedule_type\": \"Full-time\",\n",
    "    \"salary_year_avg\": \"205000.0\",\n",
    "    \"job_posted_date\": \"2023-08-09 11:00:01\"\n",
    "  },\n",
    "  {\n",
    "    \"job_id\": 731368,\n",
    "    \"company_name\": \"Inclusively\",\n",
    "    \"job_title\": \"Director, Data Analyst - HYBRID\",\n",
    "    \"job_location\": \"Anywhere\",\n",
    "    \"job_schedule_type\": \"Full-time\",\n",
    "    \"salary_year_avg\": \"189309.0\",\n",
    "    \"job_posted_date\": \"2023-12-07 15:00:13\"\n",
    "  },\n",
    "  {\n",
    "    \"job_id\": 310660,\n",
    "    \"company_name\": \"Motional\",\n",
    "    \"job_title\": \"Principal Data Analyst, AV Performance Analysis\",\n",
    "    \"job_location\": \"Anywhere\",\n",
    "    \"job_schedule_type\": \"Full-time\",\n",
    "    \"salary_year_avg\": \"189000.0\",\n",
    "    \"job_posted_date\": \"2023-01-05 00:00:25\"\n",
    "  },\n",
    "  {\n",
    "    \"job_id\": 1749593,\n",
    "    \"company_name\": \"SmartAsset\",\n",
    "    \"job_title\": \"Principal Data Analyst\",\n",
    "    \"job_location\": \"Anywhere\",\n",
    "    \"job_schedule_type\": \"Full-time\",\n",
    "    \"salary_year_avg\": \"186000.0\",\n",
    "    \"job_posted_date\": \"2023-07-11 16:00:05\"\n",
    "  },\n",
    "  {\n",
    "    \"job_id\": 387860,\n",
    "    \"company_name\": \"Get It Recruit - Information Technology\",\n",
    "    \"job_title\": \"ERM Data Analyst\",\n",
    "    \"job_location\": \"Anywhere\",\n",
    "    \"job_schedule_type\": \"Full-time\",\n",
    "    \"salary_year_avg\": \"184000.0\",\n",
    "    \"job_posted_date\": \"2023-06-09 08:01:04\"\n",
    "  }\n",
    "]\n",
    "df = pd.DataFrame(jobs_list)\n",
    "\n",
    "# Convert salary to numeric\n",
    "df['salary_year_avg'] = pd.to_numeric(df['salary_year_avg'])\n",
    "\n",
    "# Sort by salary (descending)\n",
    "df_sorted = df.sort_values('salary_year_avg', ascending=False)\n",
    "\n",
    "# Import plotly\n",
    "import plotly.express as px\n",
    "\n",
    "# Create an interactive horizontal bar chart with Plotly\n",
    "fig = px.bar(\n",
    "  df_sorted,\n",
    "  x='salary_year_avg',\n",
    "  y='job_title',\n",
    "  orientation='h',\n",
    "  labels={'salary_year_avg': 'Average Yearly Salary ($)', 'job_title': 'Job Title'},\n",
    "  title='Top Paying Roles by Job Title',\n",
    "  color='salary_year_avg',\n",
    "  color_continuous_scale='viridis',\n",
    "  text=df_sorted['salary_year_avg'].apply(lambda x: f'${int(x):,}')\n",
    ")\n",
    "\n",
    "# Customize the layout\n",
    "fig.update_layout(\n",
    "  title_font=dict(size=18, family=\"Arial, bold\"),\n",
    "  xaxis=dict(\n",
    "    title_font=dict(size=14),\n",
    "    gridcolor='lightgray',\n",
    "    gridwidth=0.5,\n",
    "    griddash='dash'\n",
    "  ),\n",
    "  yaxis=dict(\n",
    "    title_font=dict(size=14),\n",
    "    autorange=\"reversed\"  # To match the ordering\n",
    "  ),\n",
    "  coloraxis_showscale=False,  # Hide the color scale\n",
    "  height=500,\n",
    "  width=900,\n",
    "  margin=dict(l=20, r=20, t=60, b=20)\n",
    ")\n",
    "\n",
    "# Adjust text position\n",
    "fig.update_traces(\n",
    "  textposition='outside',\n",
    "  textfont=dict(size=10)\n",
    ")\n",
    "\n",
    "# Show the plot\n",
    "fig.show()\n"
   ]
  },
  {
   "cell_type": "code",
   "execution_count": 23,
   "metadata": {},
   "outputs": [
    {
     "data": {
      "application/vnd.plotly.v1+json": {
       "config": {
        "plotlyServerURL": "https://plot.ly"
       },
       "data": [
        {
         "alignmentgroup": "True",
         "hovertemplate": "count=%{marker.color}<br>skill=%{y}<extra></extra>",
         "legendgroup": "",
         "marker": {
          "color": [
           8,
           7,
           6,
           4,
           3,
           3,
           3,
           2,
           2,
           2
          ],
          "coloraxis": "coloraxis",
          "pattern": {
           "shape": ""
          }
         },
         "name": "",
         "offsetgroup": "",
         "orientation": "h",
         "showlegend": false,
         "text": [
          8,
          7,
          6,
          4,
          3,
          3,
          3,
          2,
          2,
          2
         ],
         "textfont": {
          "size": 12
         },
         "textposition": "outside",
         "type": "bar",
         "x": [
          8,
          7,
          6,
          4,
          3,
          3,
          3,
          2,
          2,
          2
         ],
         "xaxis": "x",
         "y": [
          "sql",
          "python",
          "tableau",
          "r",
          "snowflake",
          "pandas",
          "excel",
          "azure",
          "bitbucket",
          "go"
         ],
         "yaxis": "y"
        }
       ],
       "layout": {
        "barmode": "relative",
        "coloraxis": {
         "colorbar": {
          "title": {
           "text": "count"
          }
         },
         "colorscale": [
          [
           0,
           "#440154"
          ],
          [
           0.1111111111111111,
           "#482878"
          ],
          [
           0.2222222222222222,
           "#3e4989"
          ],
          [
           0.3333333333333333,
           "#31688e"
          ],
          [
           0.4444444444444444,
           "#26828e"
          ],
          [
           0.5555555555555556,
           "#1f9e89"
          ],
          [
           0.6666666666666666,
           "#35b779"
          ],
          [
           0.7777777777777778,
           "#6ece58"
          ],
          [
           0.8888888888888888,
           "#b5de2b"
          ],
          [
           1,
           "#fde725"
          ]
         ]
        },
        "legend": {
         "tracegroupgap": 0
        },
        "margin": {
         "b": 40,
         "l": 80,
         "r": 40,
         "t": 80
        },
        "template": {
         "data": {
          "bar": [
           {
            "error_x": {
             "color": "#2a3f5f"
            },
            "error_y": {
             "color": "#2a3f5f"
            },
            "marker": {
             "line": {
              "color": "white",
              "width": 0.5
             },
             "pattern": {
              "fillmode": "overlay",
              "size": 10,
              "solidity": 0.2
             }
            },
            "type": "bar"
           }
          ],
          "barpolar": [
           {
            "marker": {
             "line": {
              "color": "white",
              "width": 0.5
             },
             "pattern": {
              "fillmode": "overlay",
              "size": 10,
              "solidity": 0.2
             }
            },
            "type": "barpolar"
           }
          ],
          "carpet": [
           {
            "aaxis": {
             "endlinecolor": "#2a3f5f",
             "gridcolor": "#C8D4E3",
             "linecolor": "#C8D4E3",
             "minorgridcolor": "#C8D4E3",
             "startlinecolor": "#2a3f5f"
            },
            "baxis": {
             "endlinecolor": "#2a3f5f",
             "gridcolor": "#C8D4E3",
             "linecolor": "#C8D4E3",
             "minorgridcolor": "#C8D4E3",
             "startlinecolor": "#2a3f5f"
            },
            "type": "carpet"
           }
          ],
          "choropleth": [
           {
            "colorbar": {
             "outlinewidth": 0,
             "ticks": ""
            },
            "type": "choropleth"
           }
          ],
          "contour": [
           {
            "colorbar": {
             "outlinewidth": 0,
             "ticks": ""
            },
            "colorscale": [
             [
              0,
              "#0d0887"
             ],
             [
              0.1111111111111111,
              "#46039f"
             ],
             [
              0.2222222222222222,
              "#7201a8"
             ],
             [
              0.3333333333333333,
              "#9c179e"
             ],
             [
              0.4444444444444444,
              "#bd3786"
             ],
             [
              0.5555555555555556,
              "#d8576b"
             ],
             [
              0.6666666666666666,
              "#ed7953"
             ],
             [
              0.7777777777777778,
              "#fb9f3a"
             ],
             [
              0.8888888888888888,
              "#fdca26"
             ],
             [
              1,
              "#f0f921"
             ]
            ],
            "type": "contour"
           }
          ],
          "contourcarpet": [
           {
            "colorbar": {
             "outlinewidth": 0,
             "ticks": ""
            },
            "type": "contourcarpet"
           }
          ],
          "heatmap": [
           {
            "colorbar": {
             "outlinewidth": 0,
             "ticks": ""
            },
            "colorscale": [
             [
              0,
              "#0d0887"
             ],
             [
              0.1111111111111111,
              "#46039f"
             ],
             [
              0.2222222222222222,
              "#7201a8"
             ],
             [
              0.3333333333333333,
              "#9c179e"
             ],
             [
              0.4444444444444444,
              "#bd3786"
             ],
             [
              0.5555555555555556,
              "#d8576b"
             ],
             [
              0.6666666666666666,
              "#ed7953"
             ],
             [
              0.7777777777777778,
              "#fb9f3a"
             ],
             [
              0.8888888888888888,
              "#fdca26"
             ],
             [
              1,
              "#f0f921"
             ]
            ],
            "type": "heatmap"
           }
          ],
          "heatmapgl": [
           {
            "colorbar": {
             "outlinewidth": 0,
             "ticks": ""
            },
            "colorscale": [
             [
              0,
              "#0d0887"
             ],
             [
              0.1111111111111111,
              "#46039f"
             ],
             [
              0.2222222222222222,
              "#7201a8"
             ],
             [
              0.3333333333333333,
              "#9c179e"
             ],
             [
              0.4444444444444444,
              "#bd3786"
             ],
             [
              0.5555555555555556,
              "#d8576b"
             ],
             [
              0.6666666666666666,
              "#ed7953"
             ],
             [
              0.7777777777777778,
              "#fb9f3a"
             ],
             [
              0.8888888888888888,
              "#fdca26"
             ],
             [
              1,
              "#f0f921"
             ]
            ],
            "type": "heatmapgl"
           }
          ],
          "histogram": [
           {
            "marker": {
             "pattern": {
              "fillmode": "overlay",
              "size": 10,
              "solidity": 0.2
             }
            },
            "type": "histogram"
           }
          ],
          "histogram2d": [
           {
            "colorbar": {
             "outlinewidth": 0,
             "ticks": ""
            },
            "colorscale": [
             [
              0,
              "#0d0887"
             ],
             [
              0.1111111111111111,
              "#46039f"
             ],
             [
              0.2222222222222222,
              "#7201a8"
             ],
             [
              0.3333333333333333,
              "#9c179e"
             ],
             [
              0.4444444444444444,
              "#bd3786"
             ],
             [
              0.5555555555555556,
              "#d8576b"
             ],
             [
              0.6666666666666666,
              "#ed7953"
             ],
             [
              0.7777777777777778,
              "#fb9f3a"
             ],
             [
              0.8888888888888888,
              "#fdca26"
             ],
             [
              1,
              "#f0f921"
             ]
            ],
            "type": "histogram2d"
           }
          ],
          "histogram2dcontour": [
           {
            "colorbar": {
             "outlinewidth": 0,
             "ticks": ""
            },
            "colorscale": [
             [
              0,
              "#0d0887"
             ],
             [
              0.1111111111111111,
              "#46039f"
             ],
             [
              0.2222222222222222,
              "#7201a8"
             ],
             [
              0.3333333333333333,
              "#9c179e"
             ],
             [
              0.4444444444444444,
              "#bd3786"
             ],
             [
              0.5555555555555556,
              "#d8576b"
             ],
             [
              0.6666666666666666,
              "#ed7953"
             ],
             [
              0.7777777777777778,
              "#fb9f3a"
             ],
             [
              0.8888888888888888,
              "#fdca26"
             ],
             [
              1,
              "#f0f921"
             ]
            ],
            "type": "histogram2dcontour"
           }
          ],
          "mesh3d": [
           {
            "colorbar": {
             "outlinewidth": 0,
             "ticks": ""
            },
            "type": "mesh3d"
           }
          ],
          "parcoords": [
           {
            "line": {
             "colorbar": {
              "outlinewidth": 0,
              "ticks": ""
             }
            },
            "type": "parcoords"
           }
          ],
          "pie": [
           {
            "automargin": true,
            "type": "pie"
           }
          ],
          "scatter": [
           {
            "fillpattern": {
             "fillmode": "overlay",
             "size": 10,
             "solidity": 0.2
            },
            "type": "scatter"
           }
          ],
          "scatter3d": [
           {
            "line": {
             "colorbar": {
              "outlinewidth": 0,
              "ticks": ""
             }
            },
            "marker": {
             "colorbar": {
              "outlinewidth": 0,
              "ticks": ""
             }
            },
            "type": "scatter3d"
           }
          ],
          "scattercarpet": [
           {
            "marker": {
             "colorbar": {
              "outlinewidth": 0,
              "ticks": ""
             }
            },
            "type": "scattercarpet"
           }
          ],
          "scattergeo": [
           {
            "marker": {
             "colorbar": {
              "outlinewidth": 0,
              "ticks": ""
             }
            },
            "type": "scattergeo"
           }
          ],
          "scattergl": [
           {
            "marker": {
             "colorbar": {
              "outlinewidth": 0,
              "ticks": ""
             }
            },
            "type": "scattergl"
           }
          ],
          "scattermapbox": [
           {
            "marker": {
             "colorbar": {
              "outlinewidth": 0,
              "ticks": ""
             }
            },
            "type": "scattermapbox"
           }
          ],
          "scatterpolar": [
           {
            "marker": {
             "colorbar": {
              "outlinewidth": 0,
              "ticks": ""
             }
            },
            "type": "scatterpolar"
           }
          ],
          "scatterpolargl": [
           {
            "marker": {
             "colorbar": {
              "outlinewidth": 0,
              "ticks": ""
             }
            },
            "type": "scatterpolargl"
           }
          ],
          "scatterternary": [
           {
            "marker": {
             "colorbar": {
              "outlinewidth": 0,
              "ticks": ""
             }
            },
            "type": "scatterternary"
           }
          ],
          "surface": [
           {
            "colorbar": {
             "outlinewidth": 0,
             "ticks": ""
            },
            "colorscale": [
             [
              0,
              "#0d0887"
             ],
             [
              0.1111111111111111,
              "#46039f"
             ],
             [
              0.2222222222222222,
              "#7201a8"
             ],
             [
              0.3333333333333333,
              "#9c179e"
             ],
             [
              0.4444444444444444,
              "#bd3786"
             ],
             [
              0.5555555555555556,
              "#d8576b"
             ],
             [
              0.6666666666666666,
              "#ed7953"
             ],
             [
              0.7777777777777778,
              "#fb9f3a"
             ],
             [
              0.8888888888888888,
              "#fdca26"
             ],
             [
              1,
              "#f0f921"
             ]
            ],
            "type": "surface"
           }
          ],
          "table": [
           {
            "cells": {
             "fill": {
              "color": "#EBF0F8"
             },
             "line": {
              "color": "white"
             }
            },
            "header": {
             "fill": {
              "color": "#C8D4E3"
             },
             "line": {
              "color": "white"
             }
            },
            "type": "table"
           }
          ]
         },
         "layout": {
          "annotationdefaults": {
           "arrowcolor": "#2a3f5f",
           "arrowhead": 0,
           "arrowwidth": 1
          },
          "autotypenumbers": "strict",
          "coloraxis": {
           "colorbar": {
            "outlinewidth": 0,
            "ticks": ""
           }
          },
          "colorscale": {
           "diverging": [
            [
             0,
             "#8e0152"
            ],
            [
             0.1,
             "#c51b7d"
            ],
            [
             0.2,
             "#de77ae"
            ],
            [
             0.3,
             "#f1b6da"
            ],
            [
             0.4,
             "#fde0ef"
            ],
            [
             0.5,
             "#f7f7f7"
            ],
            [
             0.6,
             "#e6f5d0"
            ],
            [
             0.7,
             "#b8e186"
            ],
            [
             0.8,
             "#7fbc41"
            ],
            [
             0.9,
             "#4d9221"
            ],
            [
             1,
             "#276419"
            ]
           ],
           "sequential": [
            [
             0,
             "#0d0887"
            ],
            [
             0.1111111111111111,
             "#46039f"
            ],
            [
             0.2222222222222222,
             "#7201a8"
            ],
            [
             0.3333333333333333,
             "#9c179e"
            ],
            [
             0.4444444444444444,
             "#bd3786"
            ],
            [
             0.5555555555555556,
             "#d8576b"
            ],
            [
             0.6666666666666666,
             "#ed7953"
            ],
            [
             0.7777777777777778,
             "#fb9f3a"
            ],
            [
             0.8888888888888888,
             "#fdca26"
            ],
            [
             1,
             "#f0f921"
            ]
           ],
           "sequentialminus": [
            [
             0,
             "#0d0887"
            ],
            [
             0.1111111111111111,
             "#46039f"
            ],
            [
             0.2222222222222222,
             "#7201a8"
            ],
            [
             0.3333333333333333,
             "#9c179e"
            ],
            [
             0.4444444444444444,
             "#bd3786"
            ],
            [
             0.5555555555555556,
             "#d8576b"
            ],
            [
             0.6666666666666666,
             "#ed7953"
            ],
            [
             0.7777777777777778,
             "#fb9f3a"
            ],
            [
             0.8888888888888888,
             "#fdca26"
            ],
            [
             1,
             "#f0f921"
            ]
           ]
          },
          "colorway": [
           "#636efa",
           "#EF553B",
           "#00cc96",
           "#ab63fa",
           "#FFA15A",
           "#19d3f3",
           "#FF6692",
           "#B6E880",
           "#FF97FF",
           "#FECB52"
          ],
          "font": {
           "color": "#2a3f5f"
          },
          "geo": {
           "bgcolor": "white",
           "lakecolor": "white",
           "landcolor": "white",
           "showlakes": true,
           "showland": true,
           "subunitcolor": "#C8D4E3"
          },
          "hoverlabel": {
           "align": "left"
          },
          "hovermode": "closest",
          "mapbox": {
           "style": "light"
          },
          "paper_bgcolor": "white",
          "plot_bgcolor": "white",
          "polar": {
           "angularaxis": {
            "gridcolor": "#EBF0F8",
            "linecolor": "#EBF0F8",
            "ticks": ""
           },
           "bgcolor": "white",
           "radialaxis": {
            "gridcolor": "#EBF0F8",
            "linecolor": "#EBF0F8",
            "ticks": ""
           }
          },
          "scene": {
           "xaxis": {
            "backgroundcolor": "white",
            "gridcolor": "#DFE8F3",
            "gridwidth": 2,
            "linecolor": "#EBF0F8",
            "showbackground": true,
            "ticks": "",
            "zerolinecolor": "#EBF0F8"
           },
           "yaxis": {
            "backgroundcolor": "white",
            "gridcolor": "#DFE8F3",
            "gridwidth": 2,
            "linecolor": "#EBF0F8",
            "showbackground": true,
            "ticks": "",
            "zerolinecolor": "#EBF0F8"
           },
           "zaxis": {
            "backgroundcolor": "white",
            "gridcolor": "#DFE8F3",
            "gridwidth": 2,
            "linecolor": "#EBF0F8",
            "showbackground": true,
            "ticks": "",
            "zerolinecolor": "#EBF0F8"
           }
          },
          "shapedefaults": {
           "line": {
            "color": "#2a3f5f"
           }
          },
          "ternary": {
           "aaxis": {
            "gridcolor": "#DFE8F3",
            "linecolor": "#A2B1C6",
            "ticks": ""
           },
           "baxis": {
            "gridcolor": "#DFE8F3",
            "linecolor": "#A2B1C6",
            "ticks": ""
           },
           "bgcolor": "white",
           "caxis": {
            "gridcolor": "#DFE8F3",
            "linecolor": "#A2B1C6",
            "ticks": ""
           }
          },
          "title": {
           "x": 0.05
          },
          "xaxis": {
           "automargin": true,
           "gridcolor": "#EBF0F8",
           "linecolor": "#EBF0F8",
           "ticks": "",
           "title": {
            "standoff": 15
           },
           "zerolinecolor": "#EBF0F8",
           "zerolinewidth": 2
          },
          "yaxis": {
           "automargin": true,
           "gridcolor": "#EBF0F8",
           "linecolor": "#EBF0F8",
           "ticks": "",
           "title": {
            "standoff": 15
           },
           "zerolinecolor": "#EBF0F8",
           "zerolinewidth": 2
          }
         }
        },
        "title": {
         "font": {
          "family": "Arial, bold",
          "size": 20
         },
         "text": "Top 10 Skills for the Highest Paying Jobs"
        },
        "xaxis": {
         "anchor": "y",
         "domain": [
          0,
          1
         ],
         "gridcolor": "lightgray",
         "gridwidth": 1,
         "title": {
          "text": "Contagem"
         }
        },
        "yaxis": {
         "anchor": "x",
         "categoryorder": "total ascending",
         "domain": [
          0,
          1
         ],
         "title": {
          "text": "Skill"
         }
        }
       }
      }
     },
     "metadata": {},
     "output_type": "display_data"
    }
   ],
   "source": [
    "\n",
    "# Convert the JSON array to a DataFrame\n",
    "job_skills_data = pd.DataFrame([\n",
    "  {\n",
    "    \"job_id\": 552322,\n",
    "    \"company_name\": \"AT&T\",\n",
    "    \"salary_year_avg\": \"255829.5\",\n",
    "    \"skills\": \"sql\"\n",
    "  },\n",
    "  {\n",
    "    \"job_id\": 552322,\n",
    "    \"company_name\": \"AT&T\",\n",
    "    \"salary_year_avg\": \"255829.5\",\n",
    "    \"skills\": \"python\"\n",
    "  },\n",
    "  {\n",
    "    \"job_id\": 552322,\n",
    "    \"company_name\": \"AT&T\",\n",
    "    \"salary_year_avg\": \"255829.5\",\n",
    "    \"skills\": \"r\"\n",
    "  },\n",
    "  {\n",
    "    \"job_id\": 552322,\n",
    "    \"company_name\": \"AT&T\",\n",
    "    \"salary_year_avg\": \"255829.5\",\n",
    "    \"skills\": \"azure\"\n",
    "  },\n",
    "  {\n",
    "    \"job_id\": 552322,\n",
    "    \"company_name\": \"AT&T\",\n",
    "    \"salary_year_avg\": \"255829.5\",\n",
    "    \"skills\": \"databricks\"\n",
    "  },\n",
    "  {\n",
    "    \"job_id\": 552322,\n",
    "    \"company_name\": \"AT&T\",\n",
    "    \"salary_year_avg\": \"255829.5\",\n",
    "    \"skills\": \"aws\"\n",
    "  },\n",
    "  {\n",
    "    \"job_id\": 552322,\n",
    "    \"company_name\": \"AT&T\",\n",
    "    \"salary_year_avg\": \"255829.5\",\n",
    "    \"skills\": \"pandas\"\n",
    "  },\n",
    "  {\n",
    "    \"job_id\": 552322,\n",
    "    \"company_name\": \"AT&T\",\n",
    "    \"salary_year_avg\": \"255829.5\",\n",
    "    \"skills\": \"pyspark\"\n",
    "  },\n",
    "  {\n",
    "    \"job_id\": 552322,\n",
    "    \"company_name\": \"AT&T\",\n",
    "    \"salary_year_avg\": \"255829.5\",\n",
    "    \"skills\": \"jupyter\"\n",
    "  },\n",
    "  {\n",
    "    \"job_id\": 552322,\n",
    "    \"company_name\": \"AT&T\",\n",
    "    \"salary_year_avg\": \"255829.5\",\n",
    "    \"skills\": \"excel\"\n",
    "  },\n",
    "  {\n",
    "    \"job_id\": 552322,\n",
    "    \"company_name\": \"AT&T\",\n",
    "    \"salary_year_avg\": \"255829.5\",\n",
    "    \"skills\": \"tableau\"\n",
    "  },\n",
    "  {\n",
    "    \"job_id\": 552322,\n",
    "    \"company_name\": \"AT&T\",\n",
    "    \"salary_year_avg\": \"255829.5\",\n",
    "    \"skills\": \"power bi\"\n",
    "  },\n",
    "  {\n",
    "    \"job_id\": 552322,\n",
    "    \"company_name\": \"AT&T\",\n",
    "    \"salary_year_avg\": \"255829.5\",\n",
    "    \"skills\": \"powerpoint\"\n",
    "  },\n",
    "  {\n",
    "    \"job_id\": 99305,\n",
    "    \"company_name\": \"Pinterest Job Advertisements\",\n",
    "    \"salary_year_avg\": \"232423.0\",\n",
    "    \"skills\": \"sql\"\n",
    "  },\n",
    "  {\n",
    "    \"job_id\": 99305,\n",
    "    \"company_name\": \"Pinterest Job Advertisements\",\n",
    "    \"salary_year_avg\": \"232423.0\",\n",
    "    \"skills\": \"python\"\n",
    "  },\n",
    "  {\n",
    "    \"job_id\": 99305,\n",
    "    \"company_name\": \"Pinterest Job Advertisements\",\n",
    "    \"salary_year_avg\": \"232423.0\",\n",
    "    \"skills\": \"r\"\n",
    "  },\n",
    "  {\n",
    "    \"job_id\": 99305,\n",
    "    \"company_name\": \"Pinterest Job Advertisements\",\n",
    "    \"salary_year_avg\": \"232423.0\",\n",
    "    \"skills\": \"hadoop\"\n",
    "  },\n",
    "  {\n",
    "    \"job_id\": 99305,\n",
    "    \"company_name\": \"Pinterest Job Advertisements\",\n",
    "    \"salary_year_avg\": \"232423.0\",\n",
    "    \"skills\": \"tableau\"\n",
    "  },\n",
    "  {\n",
    "    \"job_id\": 1021647,\n",
    "    \"company_name\": \"Uclahealthcareers\",\n",
    "    \"salary_year_avg\": \"217000.0\",\n",
    "    \"skills\": \"sql\"\n",
    "  },\n",
    "  {\n",
    "    \"job_id\": 1021647,\n",
    "    \"company_name\": \"Uclahealthcareers\",\n",
    "    \"salary_year_avg\": \"217000.0\",\n",
    "    \"skills\": \"crystal\"\n",
    "  },\n",
    "  {\n",
    "    \"job_id\": 1021647,\n",
    "    \"company_name\": \"Uclahealthcareers\",\n",
    "    \"salary_year_avg\": \"217000.0\",\n",
    "    \"skills\": \"oracle\"\n",
    "  },\n",
    "  {\n",
    "    \"job_id\": 1021647,\n",
    "    \"company_name\": \"Uclahealthcareers\",\n",
    "    \"salary_year_avg\": \"217000.0\",\n",
    "    \"skills\": \"tableau\"\n",
    "  },\n",
    "  {\n",
    "    \"job_id\": 1021647,\n",
    "    \"company_name\": \"Uclahealthcareers\",\n",
    "    \"salary_year_avg\": \"217000.0\",\n",
    "    \"skills\": \"flow\"\n",
    "  },\n",
    "  {\n",
    "    \"job_id\": 168310,\n",
    "    \"company_name\": \"SmartAsset\",\n",
    "    \"salary_year_avg\": \"205000.0\",\n",
    "    \"skills\": \"sql\"\n",
    "  },\n",
    "  {\n",
    "    \"job_id\": 168310,\n",
    "    \"company_name\": \"SmartAsset\",\n",
    "    \"salary_year_avg\": \"205000.0\",\n",
    "    \"skills\": \"python\"\n",
    "  },\n",
    "  {\n",
    "    \"job_id\": 168310,\n",
    "    \"company_name\": \"SmartAsset\",\n",
    "    \"salary_year_avg\": \"205000.0\",\n",
    "    \"skills\": \"go\"\n",
    "  },\n",
    "  {\n",
    "    \"job_id\": 168310,\n",
    "    \"company_name\": \"SmartAsset\",\n",
    "    \"salary_year_avg\": \"205000.0\",\n",
    "    \"skills\": \"snowflake\"\n",
    "  },\n",
    "  {\n",
    "    \"job_id\": 168310,\n",
    "    \"company_name\": \"SmartAsset\",\n",
    "    \"salary_year_avg\": \"205000.0\",\n",
    "    \"skills\": \"pandas\"\n",
    "  },\n",
    "  {\n",
    "    \"job_id\": 168310,\n",
    "    \"company_name\": \"SmartAsset\",\n",
    "    \"salary_year_avg\": \"205000.0\",\n",
    "    \"skills\": \"numpy\"\n",
    "  },\n",
    "  {\n",
    "    \"job_id\": 168310,\n",
    "    \"company_name\": \"SmartAsset\",\n",
    "    \"salary_year_avg\": \"205000.0\",\n",
    "    \"skills\": \"excel\"\n",
    "  },\n",
    "  {\n",
    "    \"job_id\": 168310,\n",
    "    \"company_name\": \"SmartAsset\",\n",
    "    \"salary_year_avg\": \"205000.0\",\n",
    "    \"skills\": \"tableau\"\n",
    "  },\n",
    "  {\n",
    "    \"job_id\": 168310,\n",
    "    \"company_name\": \"SmartAsset\",\n",
    "    \"salary_year_avg\": \"205000.0\",\n",
    "    \"skills\": \"gitlab\"\n",
    "  },\n",
    "  {\n",
    "    \"job_id\": 731368,\n",
    "    \"company_name\": \"Inclusively\",\n",
    "    \"salary_year_avg\": \"189309.0\",\n",
    "    \"skills\": \"sql\"\n",
    "  },\n",
    "  {\n",
    "    \"job_id\": 731368,\n",
    "    \"company_name\": \"Inclusively\",\n",
    "    \"salary_year_avg\": \"189309.0\",\n",
    "    \"skills\": \"python\"\n",
    "  },\n",
    "  {\n",
    "    \"job_id\": 731368,\n",
    "    \"company_name\": \"Inclusively\",\n",
    "    \"salary_year_avg\": \"189309.0\",\n",
    "    \"skills\": \"azure\"\n",
    "  },\n",
    "  {\n",
    "    \"job_id\": 731368,\n",
    "    \"company_name\": \"Inclusively\",\n",
    "    \"salary_year_avg\": \"189309.0\",\n",
    "    \"skills\": \"aws\"\n",
    "  },\n",
    "  {\n",
    "    \"job_id\": 731368,\n",
    "    \"company_name\": \"Inclusively\",\n",
    "    \"salary_year_avg\": \"189309.0\",\n",
    "    \"skills\": \"oracle\"\n",
    "  },\n",
    "  {\n",
    "    \"job_id\": 731368,\n",
    "    \"company_name\": \"Inclusively\",\n",
    "    \"salary_year_avg\": \"189309.0\",\n",
    "    \"skills\": \"snowflake\"\n",
    "  },\n",
    "  {\n",
    "    \"job_id\": 731368,\n",
    "    \"company_name\": \"Inclusively\",\n",
    "    \"salary_year_avg\": \"189309.0\",\n",
    "    \"skills\": \"tableau\"\n",
    "  },\n",
    "  {\n",
    "    \"job_id\": 731368,\n",
    "    \"company_name\": \"Inclusively\",\n",
    "    \"salary_year_avg\": \"189309.0\",\n",
    "    \"skills\": \"power bi\"\n",
    "  },\n",
    "  {\n",
    "    \"job_id\": 731368,\n",
    "    \"company_name\": \"Inclusively\",\n",
    "    \"salary_year_avg\": \"189309.0\",\n",
    "    \"skills\": \"sap\"\n",
    "  },\n",
    "  {\n",
    "    \"job_id\": 731368,\n",
    "    \"company_name\": \"Inclusively\",\n",
    "    \"salary_year_avg\": \"189309.0\",\n",
    "    \"skills\": \"jenkins\"\n",
    "  },\n",
    "  {\n",
    "    \"job_id\": 731368,\n",
    "    \"company_name\": \"Inclusively\",\n",
    "    \"salary_year_avg\": \"189309.0\",\n",
    "    \"skills\": \"bitbucket\"\n",
    "  },\n",
    "  {\n",
    "    \"job_id\": 731368,\n",
    "    \"company_name\": \"Inclusively\",\n",
    "    \"salary_year_avg\": \"189309.0\",\n",
    "    \"skills\": \"atlassian\"\n",
    "  },\n",
    "  {\n",
    "    \"job_id\": 731368,\n",
    "    \"company_name\": \"Inclusively\",\n",
    "    \"salary_year_avg\": \"189309.0\",\n",
    "    \"skills\": \"jira\"\n",
    "  },\n",
    "  {\n",
    "    \"job_id\": 731368,\n",
    "    \"company_name\": \"Inclusively\",\n",
    "    \"salary_year_avg\": \"189309.0\",\n",
    "    \"skills\": \"confluence\"\n",
    "  },\n",
    "  {\n",
    "    \"job_id\": 310660,\n",
    "    \"company_name\": \"Motional\",\n",
    "    \"salary_year_avg\": \"189000.0\",\n",
    "    \"skills\": \"sql\"\n",
    "  },\n",
    "  {\n",
    "    \"job_id\": 310660,\n",
    "    \"company_name\": \"Motional\",\n",
    "    \"salary_year_avg\": \"189000.0\",\n",
    "    \"skills\": \"python\"\n",
    "  },\n",
    "  {\n",
    "    \"job_id\": 310660,\n",
    "    \"company_name\": \"Motional\",\n",
    "    \"salary_year_avg\": \"189000.0\",\n",
    "    \"skills\": \"r\"\n",
    "  },\n",
    "  {\n",
    "    \"job_id\": 310660,\n",
    "    \"company_name\": \"Motional\",\n",
    "    \"salary_year_avg\": \"189000.0\",\n",
    "    \"skills\": \"git\"\n",
    "  },\n",
    "  {\n",
    "    \"job_id\": 310660,\n",
    "    \"company_name\": \"Motional\",\n",
    "    \"salary_year_avg\": \"189000.0\",\n",
    "    \"skills\": \"bitbucket\"\n",
    "  },\n",
    "  {\n",
    "    \"job_id\": 310660,\n",
    "    \"company_name\": \"Motional\",\n",
    "    \"salary_year_avg\": \"189000.0\",\n",
    "    \"skills\": \"atlassian\"\n",
    "  },\n",
    "  {\n",
    "    \"job_id\": 310660,\n",
    "    \"company_name\": \"Motional\",\n",
    "    \"salary_year_avg\": \"189000.0\",\n",
    "    \"skills\": \"jira\"\n",
    "  },\n",
    "  {\n",
    "    \"job_id\": 310660,\n",
    "    \"company_name\": \"Motional\",\n",
    "    \"salary_year_avg\": \"189000.0\",\n",
    "    \"skills\": \"confluence\"\n",
    "  },\n",
    "  {\n",
    "    \"job_id\": 1749593,\n",
    "    \"company_name\": \"SmartAsset\",\n",
    "    \"salary_year_avg\": \"186000.0\",\n",
    "    \"skills\": \"sql\"\n",
    "  },\n",
    "  {\n",
    "    \"job_id\": 1749593,\n",
    "    \"company_name\": \"SmartAsset\",\n",
    "    \"salary_year_avg\": \"186000.0\",\n",
    "    \"skills\": \"python\"\n",
    "  },\n",
    "  {\n",
    "    \"job_id\": 1749593,\n",
    "    \"company_name\": \"SmartAsset\",\n",
    "    \"salary_year_avg\": \"186000.0\",\n",
    "    \"skills\": \"go\"\n",
    "  },\n",
    "  {\n",
    "    \"job_id\": 1749593,\n",
    "    \"company_name\": \"SmartAsset\",\n",
    "    \"salary_year_avg\": \"186000.0\",\n",
    "    \"skills\": \"snowflake\"\n",
    "  },\n",
    "  {\n",
    "    \"job_id\": 1749593,\n",
    "    \"company_name\": \"SmartAsset\",\n",
    "    \"salary_year_avg\": \"186000.0\",\n",
    "    \"skills\": \"pandas\"\n",
    "  },\n",
    "  {\n",
    "    \"job_id\": 1749593,\n",
    "    \"company_name\": \"SmartAsset\",\n",
    "    \"salary_year_avg\": \"186000.0\",\n",
    "    \"skills\": \"numpy\"\n",
    "  },\n",
    "  {\n",
    "    \"job_id\": 1749593,\n",
    "    \"company_name\": \"SmartAsset\",\n",
    "    \"salary_year_avg\": \"186000.0\",\n",
    "    \"skills\": \"excel\"\n",
    "  },\n",
    "  {\n",
    "    \"job_id\": 1749593,\n",
    "    \"company_name\": \"SmartAsset\",\n",
    "    \"salary_year_avg\": \"186000.0\",\n",
    "    \"skills\": \"tableau\"\n",
    "  },\n",
    "  {\n",
    "    \"job_id\": 1749593,\n",
    "    \"company_name\": \"SmartAsset\",\n",
    "    \"salary_year_avg\": \"186000.0\",\n",
    "    \"skills\": \"gitlab\"\n",
    "  },\n",
    "  {\n",
    "    \"job_id\": 387860,\n",
    "    \"company_name\": \"Get It Recruit - Information Technology\",\n",
    "    \"salary_year_avg\": \"184000.0\",\n",
    "    \"skills\": \"sql\"\n",
    "  },\n",
    "  {\n",
    "    \"job_id\": 387860,\n",
    "    \"company_name\": \"Get It Recruit - Information Technology\",\n",
    "    \"salary_year_avg\": \"184000.0\",\n",
    "    \"skills\": \"python\"\n",
    "  },\n",
    "  {\n",
    "    \"job_id\": 387860,\n",
    "    \"company_name\": \"Get It Recruit - Information Technology\",\n",
    "    \"salary_year_avg\": \"184000.0\",\n",
    "    \"skills\": \"r\"\n",
    "  }\n",
    "])\n",
    "\n",
    "# Filtrar os 10 trabalhos mais bem pagos usando df_sorted\n",
    "top_job_ids = df_sorted['job_id'].unique()\n",
    "\n",
    "# Selecionar apenas os skills dos top 10 trabalhos\n",
    "top_skills = job_skills_data[job_skills_data['job_id'].isin(top_job_ids)]\n",
    "\n",
    "# Contar a ocorrência de cada skill\n",
    "skill_counts_top = top_skills['skills'].value_counts().reset_index()\n",
    "skill_counts_top.columns = ['skill', 'count']\n",
    "\n",
    "# Criar o gráfico de barras horizontal com Plotly\n",
    "fig_top = px.bar(\n",
    "  skill_counts_top.head(10),\n",
    "  x='count',\n",
    "  y='skill',\n",
    "  orientation='h',\n",
    "  title='Top 10 Skills for the Highest Paying Jobs',\n",
    "  text='count',\n",
    "  color='count',\n",
    "  color_continuous_scale='Viridis'\n",
    ")\n",
    "\n",
    "# Personalizar a aparência\n",
    "fig_top.update_layout(\n",
    "  xaxis_title='Contagem',\n",
    "  yaxis_title='Skill',\n",
    "  yaxis={'categoryorder': 'total ascending'},\n",
    "  template='plotly_white',\n",
    "  title_font=dict(size=20, family=\"Arial, bold\"),\n",
    "  xaxis=dict(gridcolor='lightgray', gridwidth=1),\n",
    "  margin=dict(l=80, r=40, t=80, b=40)\n",
    ")\n",
    "\n",
    "fig_top.update_traces(textposition='outside', textfont=dict(size=12))\n",
    "fig_top.show()"
   ]
  },
  {
   "cell_type": "code",
   "execution_count": null,
   "metadata": {},
   "outputs": [],
   "source": []
  }
 ],
 "metadata": {
  "kernelspec": {
   "display_name": "Python 3",
   "language": "python",
   "name": "python3"
  },
  "language_info": {
   "codemirror_mode": {
    "name": "ipython",
    "version": 3
   },
   "file_extension": ".py",
   "mimetype": "text/x-python",
   "name": "python",
   "nbconvert_exporter": "python",
   "pygments_lexer": "ipython3",
   "version": "3.12.0"
  }
 },
 "nbformat": 4,
 "nbformat_minor": 2
}
